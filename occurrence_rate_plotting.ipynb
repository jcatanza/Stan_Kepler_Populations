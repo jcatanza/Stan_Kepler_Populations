{
 "cells": [
  {
   "cell_type": "code",
   "execution_count": 1,
   "metadata": {},
   "outputs": [],
   "source": [
    "import pickle\n",
    "from pandas.tools.plotting import *\n",
    "from matplotlib import rcParams\n",
    "rcParams[\"savefig.dpi\"] = 100\n",
    "rcParams[\"font.size\"] = 20\n",
    "import os\n",
    "import requests\n",
    "import pandas as pd\n",
    "#from cStringIO import StringIO\n",
    "import numpy as np\n",
    "import matplotlib.pyplot as pl\n",
    "import scipy as spy\n",
    "from scipy.stats import gamma\n",
    "from scipy.optimize import minimize\n",
    "import emcee\n",
    "import pystan\n",
    "from pystan import StanModel\n",
    "import stan_utility_copy\n",
    "import corner\n",
    "import gc\n"
   ]
  },
  {
   "cell_type": "code",
   "execution_count": 12,
   "metadata": {},
   "outputs": [],
   "source": [
    "periodInsolationSwitch = 'P' #raw_input(\"Period or Insolation: P or I? -- \")"
   ]
  },
  {
   "cell_type": "code",
   "execution_count": 17,
   "metadata": {},
   "outputs": [
    {
     "name": "stderr",
     "output_type": "stream",
     "text": [
      "/Users/meganshabram/anaconda3/lib/python3.6/site-packages/pystan/misc.py:399: FutureWarning: Conversion of the second argument of issubdtype from `float` to `np.floating` is deprecated. In future, it will be treated as `np.float64 == np.dtype(float).type`.\n",
      "  elif np.issubdtype(np.asarray(v).dtype, float):\n"
     ]
    }
   ],
   "source": [
    "with open(\"DR25_9.3_occ_rate_3000_real_Runcs.pkl\", \"rb\") as f:\n",
    "    data_dict = pickle.load(f)\n",
    "    # or with a list\n",
    "    # data_list = pickle.load(f)\n",
    "type(data_dict)\n",
    "retrieved_results_real_uncs = data_dict['fit']\n"
   ]
  },
  {
   "cell_type": "code",
   "execution_count": 23,
   "metadata": {},
   "outputs": [
    {
     "name": "stderr",
     "output_type": "stream",
     "text": [
      "/Users/meganshabram/anaconda3/lib/python3.6/site-packages/pystan/misc.py:399: FutureWarning: Conversion of the second argument of issubdtype from `float` to `np.floating` is deprecated. In future, it will be treated as `np.float64 == np.dtype(float).type`.\n",
      "  elif np.issubdtype(np.asarray(v).dtype, float):\n"
     ]
    }
   ],
   "source": [
    "with open(\"DR25_9.3_occ_rate_3000_no_Runcs.pkl\", \"rb\") as f:\n",
    "    data_dict = pickle.load(f)\n",
    "    # or with a list\n",
    "    # data_list = pickle.load(f)\n",
    "type(data_dict)\n",
    "retrieved_results_no_uncs = data_dict['fit']\n"
   ]
  },
  {
   "cell_type": "code",
   "execution_count": 24,
   "metadata": {},
   "outputs": [],
   "source": [
    "alpha_real = retrieved_results_real_uncs['alpha']\n",
    "beta_real = retrieved_results_real_uncs['beta']\n",
    "lnf0_real = retrieved_results_real_uncs['lnf0']\n",
    "\n",
    "PyStan_flatchain_real_uncs = np.hstack((lnf0_real.reshape(-1,1), beta_real.reshape(-1,1), alpha_real.reshape(-1,1)))\n"
   ]
  },
  {
   "cell_type": "code",
   "execution_count": 25,
   "metadata": {},
   "outputs": [],
   "source": [
    "alpha_real = retrieved_results_no_uncs['alpha']\n",
    "beta_real = retrieved_results_no_uncs['beta']\n",
    "lnf0_real = retrieved_results_no_uncs['lnf0']\n",
    "\n",
    "PyStan_flatchain_no_uncs = np.hstack((lnf0_real.reshape(-1,1), beta_real.reshape(-1,1), alpha_real.reshape(-1,1)))\n"
   ]
  },
  {
   "cell_type": "code",
   "execution_count": 26,
   "metadata": {},
   "outputs": [],
   "source": [
    "# Integrate the planet density over a given range in period or insolation and radius\n",
    "#   to get the exoplanet occurrence rate predicted by the power law in that region\n",
    "\n",
    "def integrated_gamma(theta,x1,x2,radius1,radius2,periodInsolationSwitch):\n",
    "    \n",
    "    # Break out parameters \n",
    "    lnf0, beta, alpha = theta\n",
    "    \n",
    "    # Phase space boundaries for our model\n",
    "    if(periodInsolationSwitch == 'P'):\n",
    "        x_rng = (50, 300)\n",
    "    elif(periodInsolationSwitch == 'I'):\n",
    "        x_rng = (0.2, 20)\n",
    "            \n",
    "    radius_rng = (0.75, 2.5)\n",
    "    \n",
    "    # Compute exoplanet occurrence rate integrated over chosen region of [ x , radius] parameter space\n",
    "    integral_over_x = (x2**(beta + 1) - x1**(beta + 1))/(x_rng[1]**(beta + 1) - x_rng[0]**(beta + 1))\n",
    "    integral_over_radius = (radius2**(alpha + 1) - radius1**(alpha + 1))/(radius_rng[1]**(alpha + 1) - radius_rng[0]**(alpha + 1))\n",
    "    eta = integral_over_x*integral_over_radius*np.exp(lnf0)\n",
    "    \n",
    "    return eta"
   ]
  },
  {
   "cell_type": "code",
   "execution_count": 27,
   "metadata": {},
   "outputs": [
    {
     "name": "stdout",
     "output_type": "stream",
     "text": [
      "Thu May 10 18:25:15 PDT 2018\n",
      "CPU times: user 4.35 ms, sys: 12.7 ms, total: 17 ms\n",
      "Wall time: 135 ms\n"
     ]
    }
   ],
   "source": [
    "%%time\n",
    "!date\n",
    "#  Compute and plot the posterior PDF for the exoplanet occurence rate in a \n",
    "#   desired region of period, radius parameter space\n",
    "#   NOTE: using SAG-13 binning scheme\n",
    "\n",
    "    \n",
    "    #x1 = 160\n",
    "    #x2 = 320\n",
    "x1=50\n",
    "x2=300\n",
    "\n",
    "# !!!!! Choose radius bin edges for occurrence rate calculation\n",
    "#radius1 = 1.0\n",
    "#radius2 = 1.5\n",
    "radius1 = .75\n",
    "radius2 = 2.5\n",
    "\n"
   ]
  },
  {
   "cell_type": "code",
   "execution_count": 28,
   "metadata": {},
   "outputs": [
    {
     "name": "stdout",
     "output_type": "stream",
     "text": [
      "16, 50, 84 percentile range for integrated gamma = [0.40274315 0.48017747 0.57959401] \n"
     ]
    },
    {
     "data": {
      "text/plain": [
       "(0, 1)"
      ]
     },
     "execution_count": 28,
     "metadata": {},
     "output_type": "execute_result"
    },
    {
     "data": {
      "image/png": "[encoded data removed]",
      "text/plain": [
       "<matplotlib.figure.Figure at 0x1a0e3a0198>"
      ]
     },
     "metadata": {},
     "output_type": "display_data"
    }
   ],
   "source": [
    "\n",
    "int_gamma_samples_real_uncs = np.empty(len(PyStan_flatchain_real_uncs))\n",
    "for i, theta in enumerate(PyStan_flatchain_real_uncs):\n",
    "    int_gamma_samples_real_uncs[i] = integrated_gamma(theta,x1,x2,radius1,radius2,periodInsolationSwitch)\n",
    "\n",
    "# print occurrence rate for this parameter space region\n",
    "print(\"16, 50, 84 percentile range for integrated gamma = {0} \".format(np.percentile(int_gamma_samples_real_uncs,[16,50,84])))\n",
    "\n",
    "# Plot the posterior of int gamma_samples over selected planet radius and period range             \n",
    "pl.hist(int_gamma_samples_real_uncs, 100, histtype=\"step\", color=\"k\")\n",
    "#pl.hist(int_gamma_samples_small_uncs, 100, histtype=\"step\", color=\"k\")\n",
    "pl.gca().set_yticklabels([])\n",
    "if(periodInsolationSwitch == 'I'):\n",
    "    pl.title(\"Integrated ocurrence rate over radius and insolation\")\n",
    "elif(periodInsolationSwitch == 'I'):\n",
    "    pl.title(\"Integrated ocurrence rate over radius and period\")\n",
    "    \n",
    "pl.xlabel(r\"Integrated  $\\Gamma$ (i.e. occurrence rate) in parameter space region [x1, x2, radius1, radius2] = {0}\".format([x1,x2,radius1,radius2]));    \n",
    "# pl.xlabel(r\"$\\log_{10}\\Gamma_\\oplus = \\left. \\log_{10}\\mathrm{d}N / \\mathrm{d}\\ln P \\, \\mathrm{d}\\ln R_p \\right |_\\oplus$\");\n",
    "pl.xticks\n",
    "pl.gca().set_xlim([0,1])\n"
   ]
  },
  {
   "cell_type": "code",
   "execution_count": 29,
   "metadata": {},
   "outputs": [
    {
     "name": "stdout",
     "output_type": "stream",
     "text": [
      "16, 50, 84 percentile range for integrated gamma = [0.35157338 0.40546805 0.46810479] \n"
     ]
    },
    {
     "data": {
      "text/plain": [
       "(0, 1)"
      ]
     },
     "execution_count": 29,
     "metadata": {},
     "output_type": "execute_result"
    },
    {
     "data": {
      "image/png": "[encoded data removed]",
      "text/plain": [
       "<matplotlib.figure.Figure at 0x1a0fa863c8>"
      ]
     },
     "metadata": {},
     "output_type": "display_data"
    }
   ],
   "source": [
    "int_gamma_samples_no_uncs = np.empty(len(PyStan_flatchain_no_uncs))\n",
    "for i, theta in enumerate(PyStan_flatchain_no_uncs):\n",
    "    int_gamma_samples_no_uncs[i] = integrated_gamma(theta,x1,x2,radius1,radius2,periodInsolationSwitch)\n",
    "\n",
    "# print occurrence rate for this parameter space region\n",
    "print(\"16, 50, 84 percentile range for integrated gamma = {0} \".format(np.percentile(int_gamma_samples_no_uncs,[16,50,84])))\n",
    "\n",
    "# Plot the posterior of int gamma_samples over selected planet radius and period range             \n",
    "pl.hist(int_gamma_samples_no_uncs, 100, histtype=\"step\", color=\"k\")\n",
    "#pl.hist(int_gamma_samples_small_uncs, 100, histtype=\"step\", color=\"k\")\n",
    "pl.gca().set_yticklabels([])\n",
    "if(periodInsolationSwitch == 'I'):\n",
    "    pl.title(\"Integrated ocurrence rate over radius and insolation\")\n",
    "elif(periodInsolationSwitch == 'I'):\n",
    "    pl.title(\"Integrated ocurrence rate over radius and period\")\n",
    "    \n",
    "pl.xlabel(r\"Integrated  $\\Gamma$ (i.e. occurrence rate) in parameter space region [x1, x2, radius1, radius2] = {0}\".format([x1,x2,radius1,radius2]));    \n",
    "# pl.xlabel(r\"$\\log_{10}\\Gamma_\\oplus = \\left. \\log_{10}\\mathrm{d}N / \\mathrm{d}\\ln P \\, \\mathrm{d}\\ln R_p \\right |_\\oplus$\");\n",
    "pl.xticks\n",
    "pl.gca().set_xlim([0,1])\n"
   ]
  },
  {
   "cell_type": "code",
   "execution_count": 30,
   "metadata": {},
   "outputs": [
    {
     "data": {
      "text/plain": [
       "<matplotlib.legend.Legend at 0x1a19966eb8>"
      ]
     },
     "execution_count": 30,
     "metadata": {},
     "output_type": "execute_result"
    },
    {
     "data": {
      "image/png": "[encoded data removed]",
      "text/plain": [
       "<matplotlib.figure.Figure at 0x1a0f4e53c8>"
      ]
     },
     "metadata": {},
     "output_type": "display_data"
    }
   ],
   "source": [
    "pl.hist(int_gamma_samples_no_uncs, 10, normed='true',label='No Rp Uncertainty')\n",
    "#pl.hist(int_gamma_samples_small_uncs, 10, normed='true',label='Small Rp Uncertainty')\n",
    "pl.hist(int_gamma_samples_real_uncs, 10, normed='true',label='Real Rp Uncertainty')\n",
    "pl.suptitle(r\"Integrated  $\\Gamma$ (i.e., occurrence rate)\", fontsize=14)    \n",
    "pl.title(\"[Period1, Period2, radius1, radius2] = {0}\".format([x1,x2,radius1,radius2]));    \n",
    "pl.legend()"
   ]
  },
  {
   "cell_type": "code",
   "execution_count": null,
   "metadata": {},
   "outputs": [],
   "source": []
  }
 ],
 "metadata": {
  "kernelspec": {
   "display_name": "Python 3",
   "language": "python",
   "name": "python3"
  },
  "language_info": {
   "codemirror_mode": {
    "name": "ipython",
    "version": 3
   },
   "file_extension": ".py",
   "mimetype": "text/x-python",
   "name": "python",
   "nbconvert_exporter": "python",
   "pygments_lexer": "ipython3",
   "version": "3.6.4"
  }
 },
 "nbformat": 4,
 "nbformat_minor": 2
}
